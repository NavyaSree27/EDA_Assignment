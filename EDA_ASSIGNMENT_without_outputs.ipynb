{
  "nbformat": 4,
  "nbformat_minor": 0,
  "metadata": {
    "colab": {
      "provenance": []
    },
    "kernelspec": {
      "name": "python3",
      "display_name": "Python 3"
    },
    "language_info": {
      "name": "python"
    }
  },
  "cells": [
    {
      "cell_type": "markdown",
      "source": [
        "#EDA - 1 (Bike Details Dataset)"
      ],
      "metadata": {
        "id": "_taAnKzVg02V"
      }
    },
    {
      "cell_type": "code",
      "source": [
        "import pandas as pd\n",
        "import numpy as np\n",
        "import matplotlib.pyplot as plt\n",
        "import seaborn as sns\n",
        "\n",
        "import warnings\n",
        "warnings.filterwarnings('ignore')"
      ],
      "metadata": {
        "id": "_62yb8Slg9wU"
      },
      "execution_count": null,
      "outputs": []
    },
    {
      "cell_type": "code",
      "source": [
        "\n",
        "df1 = pd.read_csv('/content/BIKE DETAILS (1).csv')\n"
      ],
      "metadata": {
        "id": "OYmqm1GBCTBc"
      },
      "execution_count": null,
      "outputs": []
    },
    {
      "cell_type": "code",
      "source": [
        "\n",
        "df1"
      ],
      "metadata": {
        "id": "3VQT8z-ajYMu"
      },
      "execution_count": null,
      "outputs": []
    },
    {
      "cell_type": "code",
      "source": [
        "df1.info() # To get datatypes of all columns"
      ],
      "metadata": {
        "id": "cwCB0CVAksdV"
      },
      "execution_count": null,
      "outputs": []
    },
    {
      "cell_type": "code",
      "source": [
        "df1.columns # To get Names of all columns in the dataset"
      ],
      "metadata": {
        "id": "NIlqBbkLksZ2"
      },
      "execution_count": null,
      "outputs": []
    },
    {
      "cell_type": "code",
      "source": [
        "df1.head() # To get first 5 columns"
      ],
      "metadata": {
        "id": "gGGPGAA9ksWV"
      },
      "execution_count": null,
      "outputs": []
    },
    {
      "cell_type": "code",
      "source": [
        "df1.tail()  # To get last 5 columns"
      ],
      "metadata": {
        "id": "H2ebEEf2ksRU"
      },
      "execution_count": null,
      "outputs": []
    },
    {
      "cell_type": "code",
      "source": [
        "df1.shape # no of rows and columns"
      ],
      "metadata": {
        "id": "ceiTQ708ksO8"
      },
      "execution_count": null,
      "outputs": []
    },
    {
      "cell_type": "code",
      "source": [
        "df1.describe() # Five point summary- statistical data"
      ],
      "metadata": {
        "id": "2orB35wzksN1"
      },
      "execution_count": null,
      "outputs": []
    },
    {
      "cell_type": "code",
      "source": [
        "df1.info()"
      ],
      "metadata": {
        "id": "1BgZL71yksLE"
      },
      "execution_count": null,
      "outputs": []
    },
    {
      "cell_type": "code",
      "source": [
        "df1.duplicated().sum() # To check duplicates if yes we can drop them"
      ],
      "metadata": {
        "id": "8UBiJZFXksIF"
      },
      "execution_count": null,
      "outputs": []
    },
    {
      "cell_type": "code",
      "source": [
        "df1 = df1.drop_duplicates() #Here we are droping the duplicate values"
      ],
      "metadata": {
        "id": "sCIK2vKYFsvt"
      },
      "execution_count": null,
      "outputs": []
    },
    {
      "cell_type": "code",
      "source": [
        "df1"
      ],
      "metadata": {
        "id": "G8mpHtJjFx55"
      },
      "execution_count": null,
      "outputs": []
    },
    {
      "cell_type": "code",
      "source": [
        "df_copy = df1.copy()\n",
        "df_copy"
      ],
      "metadata": {
        "id": "2wtas3zSHfUj"
      },
      "execution_count": null,
      "outputs": []
    },
    {
      "cell_type": "code",
      "source": [
        "df_copy.reset_index(drop = True, inplace = True) #resetting index cause even after droping duplicates previous index is still there, so we are resetting the index.\n",
        "df_copy"
      ],
      "metadata": {
        "id": "R2_eH3vfHkrM"
      },
      "execution_count": null,
      "outputs": []
    },
    {
      "cell_type": "code",
      "source": [
        "df_copy.shape"
      ],
      "metadata": {
        "id": "qkRv4MaqFzfT"
      },
      "execution_count": null,
      "outputs": []
    },
    {
      "cell_type": "code",
      "source": [
        "df_copy.dtypes"
      ],
      "metadata": {
        "id": "BdalhA5vHJYt"
      },
      "execution_count": null,
      "outputs": []
    },
    {
      "cell_type": "code",
      "source": [
        "df_copy.isnull().sum() # to check if null values are present or not ."
      ],
      "metadata": {
        "id": "_tBPd6IDFWIM"
      },
      "execution_count": null,
      "outputs": []
    },
    {
      "cell_type": "code",
      "source": [
        "missing_data = df_copy.isnull().sum()\n",
        "print(missing_data)\n"
      ],
      "metadata": {
        "id": "zGr6yxgaFcpK"
      },
      "execution_count": null,
      "outputs": []
    },
    {
      "cell_type": "code",
      "source": [
        "df1[\"ex_showroom_price\"]"
      ],
      "metadata": {
        "id": "-Qcx_uldJYjB"
      },
      "execution_count": null,
      "outputs": []
    },
    {
      "cell_type": "code",
      "source": [
        "df_copy.isnull().sum()"
      ],
      "metadata": {
        "id": "mXplD-oYNi8I"
      },
      "execution_count": null,
      "outputs": []
    },
    {
      "cell_type": "code",
      "source": [
        "df_copy.dtypes"
      ],
      "metadata": {
        "id": "VfHgLIVYNpqx"
      },
      "execution_count": null,
      "outputs": []
    },
    {
      "cell_type": "markdown",
      "source": [
        "QUESTION 1: What is the range of selling prices in the dataset?\n",
        "\n",
        "Answer : range(755000)\n",
        "\n",
        "         (760000 - 5000 = 755000)"
      ],
      "metadata": {
        "id": "G-Yy4QfqN3Is"
      }
    },
    {
      "cell_type": "code",
      "source": [
        "df_copy"
      ],
      "metadata": {
        "id": "D4KrRWGvOsL0"
      },
      "execution_count": null,
      "outputs": []
    },
    {
      "cell_type": "code",
      "source": [
        "df_copy[\"selling_price\"].max()\n",
        "\n",
        "\n",
        "\n"
      ],
      "metadata": {
        "id": "J8_z-mq-N_I9"
      },
      "execution_count": null,
      "outputs": []
    },
    {
      "cell_type": "code",
      "source": [
        "df_copy[\"selling_price\"].min()"
      ],
      "metadata": {
        "id": "jOS1cEuzOmJG"
      },
      "execution_count": null,
      "outputs": []
    },
    {
      "cell_type": "code",
      "source": [
        "selling_price_range = df_copy[\"selling_price\"].max() - df_copy[\"selling_price\"].min()\n",
        "print(\"Range of selling prices:\", selling_price_range)"
      ],
      "metadata": {
        "id": "2R6ydZ2RO5Gt"
      },
      "execution_count": null,
      "outputs": []
    },
    {
      "cell_type": "markdown",
      "source": [
        "QUESTION 2 : What is the median selling price for bikes in the dataset?\n",
        "\n",
        "Answer : 45000.0"
      ],
      "metadata": {
        "id": "I1cFkjuBPPPm"
      }
    },
    {
      "cell_type": "code",
      "source": [
        "df_copy"
      ],
      "metadata": {
        "id": "BadOhVzCO8jt"
      },
      "execution_count": null,
      "outputs": []
    },
    {
      "cell_type": "code",
      "source": [
        "df_copy[\"selling_price\"].median()"
      ],
      "metadata": {
        "id": "_VNr94B0PUiO"
      },
      "execution_count": null,
      "outputs": []
    },
    {
      "cell_type": "markdown",
      "source": [
        "QUESTION 3 : What is the most common seller type?\n",
        "\n",
        "Answer : Individual\n"
      ],
      "metadata": {
        "id": "Ioxw3G1dPqOB"
      }
    },
    {
      "cell_type": "code",
      "source": [
        "most_common_seller_type = df_copy[\"seller_type\"].mode()[0]\n",
        "print(\"Most common seller type:\", most_common_seller_type)\n"
      ],
      "metadata": {
        "id": "MvKkNf7aPgD1"
      },
      "execution_count": null,
      "outputs": []
    },
    {
      "cell_type": "markdown",
      "source": [
        "QUESTION 4 : How many bikes have driven more than 50,000 kilometers?\n",
        "\n",
        "Answer : 168\n"
      ],
      "metadata": {
        "id": "SDoQl5HrP4Ws"
      }
    },
    {
      "cell_type": "code",
      "source": [
        "bikes_over_50k = df_copy[df_copy[\"km_driven\"] > 50000].shape[0]\n",
        "print(\"Bikes driven more than 50,000 kilometers:\", bikes_over_50k)\n"
      ],
      "metadata": {
        "id": "UT6SUQ6tP1RO"
      },
      "execution_count": null,
      "outputs": []
    },
    {
      "cell_type": "markdown",
      "source": [
        "QUESTION 5 : What is the average km_driven value for each ownership type?\n",
        "\n",
        "Answer:\n",
        "```\n",
        "1st owner     32732.710240\n",
        "2nd owner     39288.991870\n",
        "3rd owner     33292.181818\n",
        "4th owner    311500.000000\n",
        "```"
      ],
      "metadata": {
        "id": "qadv3gxBQN5L"
      }
    },
    {
      "cell_type": "code",
      "source": [
        "avg_km_driven_per_owner = df_copy.groupby(\"owner\")[\"km_driven\"].mean()\n",
        "print(\"Average km_driven per ownership type:\\n\", avg_km_driven_per_owner)\n"
      ],
      "metadata": {
        "id": "vYaL81NlQHME"
      },
      "execution_count": null,
      "outputs": []
    },
    {
      "cell_type": "markdown",
      "source": [
        "QUESTION 6: What proportion of bikes are from the year 2015 or older?\n",
        "\n",
        "Answer:56.59%"
      ],
      "metadata": {
        "id": "zTMP99u4Q_N_"
      }
    },
    {
      "cell_type": "code",
      "source": [
        "bikes_2015_or_older = (df_copy[\"year\"] <= 2015).mean() * 100\n",
        "print(f\"Proportion of bikes from 2015 or older: {bikes_2015_or_older:.2f}%\")\n"
      ],
      "metadata": {
        "id": "Jt_CVkiZQicu"
      },
      "execution_count": null,
      "outputs": []
    },
    {
      "cell_type": "markdown",
      "source": [
        "QUESTION 7: What is the trend of missing values across the dataset?\n",
        "\n",
        "\n",
        "\n",
        "Answer:  In the dataset, missing values are only present in the ex_showroom_price column, with a total of **433** missing entries. All other columns, including name, selling_price, year, seller_type, owner, and km_driven, have no missing values, indicating that they are fully populated.\n",
        "\n",
        "The trend shows that the missing data is concentrated in the **ex_showroom_price** column, which could suggest that for some bikes, the showroom price was not recorded or is not available."
      ],
      "metadata": {
        "id": "kpoxc3VoReNM"
      }
    },
    {
      "cell_type": "code",
      "source": [
        "#What is the trend of missing values across the dataset?\n",
        "missing_values_trend = df1.isnull().sum() / len(df_copy) * 100\n",
        "print(\"Trend of missing values:\\n\", missing_values_trend)"
      ],
      "metadata": {
        "id": "CW0as3PwRQd1"
      },
      "execution_count": null,
      "outputs": []
    },
    {
      "cell_type": "markdown",
      "source": [
        "QUESTION 8: What is the highest ex_showroom_price recorded, and for which bike?\n",
        "\n",
        "Answer:\n",
        "```\n",
        "selling_price                            750000\n",
        "name                 Harley-Davidson Street Bob\n",
        "```\n"
      ],
      "metadata": {
        "id": "jNwsGU7VSDKR"
      }
    },
    {
      "cell_type": "code",
      "source": [
        "highest_price_bike = df_copy.loc[df_copy[\"ex_showroom_price\"].idxmax()]\n",
        "print(\"Highest ex_showroom_price:\\n\", highest_price_bike)\n"
      ],
      "metadata": {
        "id": "7r02fPOASubx"
      },
      "execution_count": null,
      "outputs": []
    },
    {
      "cell_type": "markdown",
      "source": [
        "QUESTION 9: What is the total number of bikes listed by each seller type?\n",
        "\n",
        "Answer:\n",
        "```\n",
        "seller_type\n",
        "Individual    1049\n",
        "Dealer           6\n",
        "```"
      ],
      "metadata": {
        "id": "lmyOCs5DTBDB"
      }
    },
    {
      "cell_type": "code",
      "source": [
        "bikes_by_seller_type = df_copy[\"seller_type\"].value_counts()\n",
        "print(\"Total bikes listed by each seller type:\\n\", bikes_by_seller_type)\n"
      ],
      "metadata": {
        "id": "lEbzDx3cTROd"
      },
      "execution_count": null,
      "outputs": []
    },
    {
      "cell_type": "markdown",
      "source": [
        "QUESTION 10:  What is the relationship between selling_price and km_driven for first-owner bikes?\n",
        "\n",
        "Answer:"
      ],
      "metadata": {
        "id": "0ZZ6GKifTfuK"
      }
    },
    {
      "cell_type": "code",
      "source": [
        "import matplotlib.pyplot as plt\n",
        "import seaborn as sns\n",
        "\n",
        "first_owner_bikes = df_copy[df_copy[\"owner\"] == \"1st owner\"]\n",
        "sns.scatterplot(x=\"km_driven\", y=\"selling_price\", data=first_owner_bikes)\n",
        "plt.title(\"Selling Price vs KM Driven (1st Owner Bikes)\")\n",
        "plt.show()\n"
      ],
      "metadata": {
        "id": "XDvxVC3PTj9B"
      },
      "execution_count": null,
      "outputs": []
    },
    {
      "cell_type": "code",
      "source": [
        "# 2. Correlation between selling_price and km_driven\n",
        "correlation = first_owner_bikes[\"selling_price\"].corr(first_owner_bikes[\"km_driven\"])\n",
        "print(f\"Correlation between selling_price and km_driven: {correlation}\")"
      ],
      "metadata": {
        "id": "xSx7-rezUbDZ"
      },
      "execution_count": null,
      "outputs": []
    },
    {
      "cell_type": "markdown",
      "source": [
        "QUESTION 11: Identify and remove outliers in the km_driven column using the IQR method?\n",
        "\n",
        "Answer:"
      ],
      "metadata": {
        "id": "7gkmyX8XUBnp"
      }
    },
    {
      "cell_type": "code",
      "source": [
        "# Calculate Q1, Q3, and IQR\n",
        "Q1 = df_copy[\"km_driven\"].quantile(0.25)\n",
        "Q3 = df_copy[\"km_driven\"].quantile(0.75)\n",
        "IQR = Q3 - Q1\n",
        "\n",
        "# Calculate the lower and upper bounds\n",
        "lower_bound = Q1 - 1.5 * IQR\n",
        "upper_bound = Q3 + 1.5 * IQR\n",
        "\n",
        "# Filter the DataFrame to remove outliers\n",
        "df_cleaned = df_copy[(df_copy[\"km_driven\"] >= lower_bound) & (df_copy[\"km_driven\"] <= upper_bound)]\n",
        "\n",
        "# Print the number of rows before and after cleaning\n",
        "original_rows = df_copy.shape[0]\n",
        "cleaned_rows = df_cleaned.shape[0]\n",
        "removed_rows = original_rows - cleaned_rows\n",
        "\n",
        "print(\"Original number of rows:\", original_rows)\n",
        "print(\"Rows after removing outliers:\", cleaned_rows)\n",
        "print(\"Number of rows removed:\", removed_rows)\n"
      ],
      "metadata": {
        "id": "1VaxEuGUUP6A"
      },
      "execution_count": null,
      "outputs": []
    },
    {
      "cell_type": "markdown",
      "source": [
        "QUESTION 12:Perform a bivariate analysis to visualize the relationship between year and selling_price.\n",
        "\n",
        "Answer:As year increases selling price also increases"
      ],
      "metadata": {
        "id": "5PK-goDQU4_b"
      }
    },
    {
      "cell_type": "code",
      "source": [
        "plt.scatter(df_copy[\"year\"], df_copy[\"selling_price\"])\n",
        "\n",
        "plt.xlabel(\"Year\", fontsize=12)\n",
        "plt.ylabel(\"Selling Price\", fontsize=12)\n",
        "plt.title(\"Relationship Between Year and Selling Price\", fontsize=14)\n",
        "plt.grid(linestyle='--', alpha=0.7)\n",
        "plt.show()"
      ],
      "metadata": {
        "id": "jfOMf0t3bTXx"
      },
      "execution_count": null,
      "outputs": []
    },
    {
      "cell_type": "markdown",
      "source": [
        "QUESTION 13:What is the average depreciation in selling price based on the bike's age (current year - manufacturing year)?\n",
        "\n",
        "Answer:"
      ],
      "metadata": {
        "id": "p9P0JNQ3W3cT"
      }
    },
    {
      "cell_type": "code",
      "source": [
        "current_year = 2025\n",
        "df_copy[\"age\"] = current_year - df_copy[\"year\"]\n",
        "df_copy[\"depreciation\"] = df_copy[\"ex_showroom_price\"] - df_copy[\"selling_price\"]\n",
        "\n",
        "avg_depreciation_by_age = df_copy.groupby(\"age\")[\"depreciation\"].mean()\n",
        "print(\"Average depreciation by age:\\n\", avg_depreciation_by_age)\n"
      ],
      "metadata": {
        "id": "kHr5vFYcXCEr"
      },
      "execution_count": null,
      "outputs": []
    },
    {
      "cell_type": "markdown",
      "source": [
        "QUESTION 14: Which bike names are priced significantly above the average price for their manufacturing year?\n",
        "\n",
        "Answer:"
      ],
      "metadata": {
        "id": "JFLdjMshXhdg"
      }
    },
    {
      "cell_type": "code",
      "source": [
        "# Calculate average selling price per year\n",
        "avg_price_per_year = df_copy.groupby(\"year\")[\"selling_price\"].mean()\n",
        "\n",
        "# Determine if a bike's selling price is significantly above the average for its year\n",
        "df_copy[\"above_avg\"] = df_copy[\"selling_price\"] > df_copy[\"year\"].map(avg_price_per_year) * 1.2\n",
        "\n",
        "# Filter bikes priced significantly above average\n",
        "expensive_bikes = df_copy[df_copy[\"above_avg\"]]\n",
        "\n",
        "# Get all bike names\n",
        "expensive_bike_names = expensive_bikes[\"name\"].tolist()\n",
        "\n",
        "print(\"Bike names priced significantly above average:\")\n",
        "print(expensive_bike_names)\n"
      ],
      "metadata": {
        "id": "pZUd60DnZAJo"
      },
      "execution_count": null,
      "outputs": []
    },
    {
      "cell_type": "markdown",
      "source": [
        "QUESTION 15: Develop a correlation matrix for numeric columns and visualize it using a heatmap.\n",
        "\n",
        "Answer:"
      ],
      "metadata": {
        "id": "Qf0x9jdaZPHQ"
      }
    },
    {
      "cell_type": "code",
      "source": [
        "df_copy.dtypes"
      ],
      "metadata": {
        "id": "pgzqxLGXZpEV"
      },
      "execution_count": null,
      "outputs": []
    },
    {
      "cell_type": "code",
      "source": [
        "num=[col for col in df1.columns if df1[col].dtypes!=\"O\"]\n",
        "num"
      ],
      "metadata": {
        "id": "YODY4cUpZpCx"
      },
      "execution_count": null,
      "outputs": []
    },
    {
      "cell_type": "code",
      "source": [
        "correlation_matrix = df1[num].corr()"
      ],
      "metadata": {
        "id": "12byJbb3ZZVJ"
      },
      "execution_count": null,
      "outputs": []
    },
    {
      "cell_type": "code",
      "source": [
        "\n",
        "plt.figure(figsize=(8, 6))\n",
        "sns.heatmap(correlation_matrix, annot=True, cmap='coolwarm', fmt='.2f', cbar=True)\n",
        "plt.title(\"Correlation Matrix of Numeric Columns\")\n",
        "plt.show()"
      ],
      "metadata": {
        "id": "KC5mseA7Z56J"
      },
      "execution_count": null,
      "outputs": []
    },
    {
      "cell_type": "markdown",
      "source": [
        "#EDA - 2 (Car Sale Dataset)\n"
      ],
      "metadata": {
        "id": "FU7gzqvVayJA"
      }
    },
    {
      "cell_type": "code",
      "source": [
        "df2=pd.read_csv('Car Sale.csv')"
      ],
      "metadata": {
        "id": "4xBAX9w8bIER"
      },
      "execution_count": null,
      "outputs": []
    },
    {
      "cell_type": "code",
      "source": [
        "df2"
      ],
      "metadata": {
        "id": "f5UVk7_WbXIx"
      },
      "execution_count": null,
      "outputs": []
    },
    {
      "cell_type": "code",
      "source": [
        "df2.info()"
      ],
      "metadata": {
        "id": "E26yLyl0bXvZ"
      },
      "execution_count": null,
      "outputs": []
    },
    {
      "cell_type": "code",
      "source": [
        "df2.columns"
      ],
      "metadata": {
        "id": "Q1dM8GPcbcsA"
      },
      "execution_count": null,
      "outputs": []
    },
    {
      "cell_type": "code",
      "source": [
        "df2.shape"
      ],
      "metadata": {
        "id": "rGoQPax9berA"
      },
      "execution_count": null,
      "outputs": []
    },
    {
      "cell_type": "code",
      "source": [
        "df2.head()"
      ],
      "metadata": {
        "id": "2HLccin2bgMZ"
      },
      "execution_count": null,
      "outputs": []
    },
    {
      "cell_type": "code",
      "source": [
        "df2.tail()"
      ],
      "metadata": {
        "id": "tF3mVsL7gSDS"
      },
      "execution_count": null,
      "outputs": []
    },
    {
      "cell_type": "code",
      "source": [
        "df2.describe()"
      ],
      "metadata": {
        "id": "zAiXNYfDgTha"
      },
      "execution_count": null,
      "outputs": []
    },
    {
      "cell_type": "code",
      "source": [
        "df2.info()"
      ],
      "metadata": {
        "id": "6Kt3gwebgVGB"
      },
      "execution_count": null,
      "outputs": []
    },
    {
      "cell_type": "code",
      "source": [
        "df2.duplicated().sum()"
      ],
      "metadata": {
        "id": "wNCOe5ltgaEi"
      },
      "execution_count": null,
      "outputs": []
    },
    {
      "cell_type": "code",
      "source": [
        "df2.isnull().sum()"
      ],
      "metadata": {
        "id": "XED2vrArgcwJ"
      },
      "execution_count": null,
      "outputs": []
    },
    {
      "cell_type": "markdown",
      "source": [
        "QUESTION 1:What is the average selling price of cars for each dealer, and how does it compare across different dealers?\n",
        "\n",
        "Answer:Dealers in affluent regions may have higher average selling prices, possibly due to premium car listings"
      ],
      "metadata": {
        "id": "uMoPWtm2hsTi"
      }
    },
    {
      "cell_type": "code",
      "source": [
        "dealer_avg_price = df2.groupby('Dealer_Name')['Price ($)'].mean().sort_values(ascending=False)\n",
        "dealer_avg_price.plot(kind='bar', figsize=(12, 6), title='Average Selling Price per Dealer')\n",
        "plt.ylabel('Average Price ($)')\n",
        "plt.show()\n",
        "\n"
      ],
      "metadata": {
        "id": "HhdIAGB5h0lS"
      },
      "execution_count": null,
      "outputs": []
    },
    {
      "cell_type": "markdown",
      "source": [
        "QUESTION 2:Which car brand (Company) has the highest variation in prices, and what does this tell us about the pricing trends?\n",
        "\n",
        "Answer:Brand with highest price variation is Lincoln"
      ],
      "metadata": {
        "id": "mR0-zFpqi7Pi"
      }
    },
    {
      "cell_type": "code",
      "source": [
        "brand_variation = df2.groupby('Company')['Price ($)'].std().sort_values(ascending=False)\n",
        "print(\"Brand with highest price variation:\", brand_variation.idxmax())\n",
        "brand_variation.plot(kind='bar', figsize=(12, 6), title='Price Variation by Brand')\n",
        "plt.ylabel('Price Standard Deviation')\n",
        "plt.show()\n"
      ],
      "metadata": {
        "id": "zmHJ_iITiQ9a"
      },
      "execution_count": null,
      "outputs": []
    },
    {
      "cell_type": "markdown",
      "source": [
        "QUESTION 3: What is the distribution of car prices for each transmission type, and how do the interquartile ranges compare?\n",
        "\n",
        "Answer: Automatic cars might have higher prices on average, with smaller interquartile ranges due to premium features."
      ],
      "metadata": {
        "id": "bqR7F_jnjbu6"
      }
    },
    {
      "cell_type": "code",
      "source": [
        "sns.boxplot(x='Transmission', y='Price ($)', data=df2)\n",
        "plt.title('Car Price Distribution by Transmission Type')\n",
        "plt.ylabel('Price ($)')\n",
        "plt.show()\n"
      ],
      "metadata": {
        "id": "MnQB-aBhjPoq"
      },
      "execution_count": null,
      "outputs": []
    },
    {
      "cell_type": "markdown",
      "source": [
        "QUESTION 4:What is the distribution of car prices across different regions?\n",
        "\n",
        "Answer:Urban regions may show higher prices due to demand and premium cars."
      ],
      "metadata": {
        "id": "-n3xZ0Nujqei"
      }
    },
    {
      "cell_type": "code",
      "source": [
        "sns.violinplot(x='Dealer_Region', y='Price ($)', data=df2)\n",
        "plt.title('Car Price Distribution Across Regions')\n",
        "plt.ylabel('Price ($)')\n",
        "plt.show()\n"
      ],
      "metadata": {
        "id": "6qboEaaWjjWK"
      },
      "execution_count": null,
      "outputs": []
    },
    {
      "cell_type": "markdown",
      "source": [
        "QUESTION 5: What is the distribution of cars based on body styles?\n",
        "\n",
        "Answer:Sedans and SUVs could dominate the dataset due to their popularity."
      ],
      "metadata": {
        "id": "bIl-NJztj_fJ"
      }
    },
    {
      "cell_type": "code",
      "source": [
        "body_style_count = df2['Body Style'].value_counts()\n",
        "body_style_count.plot(kind='bar', figsize=(12, 6), title='Distribution of Cars by Body Style')\n",
        "plt.ylabel('Count')\n",
        "plt.show()\n"
      ],
      "metadata": {
        "id": "nQNrrLBbjxPS"
      },
      "execution_count": null,
      "outputs": []
    },
    {
      "cell_type": "markdown",
      "source": [
        "QUESTION 6: How does the average selling price of cars vary by customer gender and annual income?\n",
        "\n",
        "Answer:Male customers may show a slightly higher average spending. Income has a positive correlation with average car prices."
      ],
      "metadata": {
        "id": "djFW2pD8kR1a"
      }
    },
    {
      "cell_type": "code",
      "source": [
        "df2.groupby([\"Gender\",\"Annual Income\"])[\"Price ($)\"].mean()"
      ],
      "metadata": {
        "id": "drSVCn-kpsdR"
      },
      "execution_count": null,
      "outputs": []
    },
    {
      "cell_type": "markdown",
      "source": [
        "QUESTION 7:What is the distribution of car prices by region, and how does the number of cars sold vary by region?\n",
        "\n",
        "Answer:Regions with more dealers might sell more cars, with a broad range of prices reflecting diverse customer bases."
      ],
      "metadata": {
        "id": "_nKeT9Orke5W"
      }
    },
    {
      "cell_type": "code",
      "source": [
        "region_sales = df2['Dealer_Region'].value_counts()\n",
        "region_sales.plot(kind='bar', figsize=(12, 6), title='Number of Cars Sold by Region')\n",
        "plt.ylabel('Count')\n",
        "plt.show()\n",
        "\n",
        "sns.boxplot(x='Dealer_Region', y='Price ($)', data=df2)\n",
        "plt.title('Car Price Distribution by Region')\n",
        "plt.ylabel('Price ($)')\n",
        "plt.show()\n"
      ],
      "metadata": {
        "id": "V4ZDZGTZuROy"
      },
      "execution_count": null,
      "outputs": []
    },
    {
      "cell_type": "code",
      "source": [
        "df2.info()"
      ],
      "metadata": {
        "id": "zwZFjc_JuRMD"
      },
      "execution_count": null,
      "outputs": []
    },
    {
      "cell_type": "markdown",
      "source": [
        "QUESTION 8:How does the average car price differ between cars with different engine sizes?\n",
        "\n",
        "Answer:Larger engine cars generally have higher prices."
      ],
      "metadata": {
        "id": "eg89YPZRkuLS"
      }
    },
    {
      "cell_type": "code",
      "source": [
        "engine_price_avg = df2.groupby('Engine')['Price ($)'].mean().sort_values(ascending=False)\n",
        "engine_price_avg.plot(kind='bar', figsize=(12, 6), title='Average Car Price by Engine Size')\n",
        "plt.ylabel('Average Price ($)')\n",
        "plt.show()\n"
      ],
      "metadata": {
        "id": "vV52vcDCk4EK"
      },
      "execution_count": null,
      "outputs": []
    },
    {
      "cell_type": "markdown",
      "source": [
        "Question 9: How do car prices vary based on the customer’s annual income bracket?\n",
        "\n",
        "Answer:Higher income brackets correspond to higher average car prices, with more luxury cars being purchased."
      ],
      "metadata": {
        "id": "Lh3ZnB7Fk4XC"
      }
    },
    {
      "cell_type": "code",
      "source": [
        "income_brackets = pd.qcut(df2['Annual Income'], q=4, labels=['Low', 'Medium', 'High', 'Very High'])\n",
        "df2['Income Bracket'] = income_brackets\n",
        "\n",
        "sns.boxplot(x='Income Bracket', y='Price ($)', data=df2)\n",
        "plt.title('Car Prices by Income Bracket')\n",
        "plt.ylabel('Price ($)')\n",
        "plt.show()\n"
      ],
      "metadata": {
        "id": "6HGDpwjOk5KS"
      },
      "execution_count": null,
      "outputs": []
    },
    {
      "cell_type": "markdown",
      "source": [
        "Question 10: What are the top 5 car models with the highest number of sales, and how does their price distribution look?\n",
        "\n",
        "Answer: Popular models may have a tighter price range due to demand consistency.\n"
      ],
      "metadata": {
        "id": "lSgS0ozLk5d6"
      }
    },
    {
      "cell_type": "code",
      "source": [
        "top_5_models=df2[\"Model\"].value_counts().head(5)"
      ],
      "metadata": {
        "id": "1Ljz4tbLmmue"
      },
      "execution_count": null,
      "outputs": []
    },
    {
      "cell_type": "code",
      "source": [
        "top_5_models"
      ],
      "metadata": {
        "id": "V9lMJ_opmmsa"
      },
      "execution_count": null,
      "outputs": []
    },
    {
      "cell_type": "code",
      "source": [
        "top_models = df2['Model'].value_counts().head(5).index\n",
        "df_top_models = df2[df2['Model'].isin(top_models)]\n",
        "\n",
        "sns.boxplot(x='Model', y='Price ($)', data=df_top_models)\n",
        "plt.title('Price Distribution of Top 5 Selling Car Models')\n",
        "plt.ylabel('Price ($)')\n",
        "plt.show()\n"
      ],
      "metadata": {
        "id": "o1mAq7VWk9Di"
      },
      "execution_count": null,
      "outputs": []
    },
    {
      "cell_type": "markdown",
      "source": [
        "Question 11: How does car price vary with engine size across different car colors, and which colors have the highest price variation?\n",
        "\n",
        "Answer:Premium colors may show higher prices and variations."
      ],
      "metadata": {
        "id": "0cuoh-Nyk9ib"
      }
    },
    {
      "cell_type": "code",
      "source": [
        "sns.boxplot(x='Color', y='Price ($)', hue='Engine', data=df2)\n",
        "plt.title('Car Price Variation by Engine Size and Color')\n",
        "plt.ylabel('Price ($)')\n",
        "plt.show()\n"
      ],
      "metadata": {
        "id": "H_v-u_eNlBta"
      },
      "execution_count": null,
      "outputs": []
    },
    {
      "cell_type": "markdown",
      "source": [
        "Question 12: Is there any seasonal trend in car sales based on the date of sale?\n",
        "\n",
        "Answer: NO"
      ],
      "metadata": {
        "id": "pfNjq5pelEW3"
      }
    },
    {
      "cell_type": "code",
      "source": [
        "df2[\"Date\"]= pd.to_datetime(df2['Date'])"
      ],
      "metadata": {
        "id": "FwM4mHNKlJBr"
      },
      "execution_count": null,
      "outputs": []
    },
    {
      "cell_type": "code",
      "source": [
        "df2[\"Date\"].dtypes"
      ],
      "metadata": {
        "id": "hyKAr6zwnK3c"
      },
      "execution_count": null,
      "outputs": []
    },
    {
      "cell_type": "code",
      "source": [
        "sales_per_day=df2.groupby(\"Date\").size()"
      ],
      "metadata": {
        "id": "RCkluImSnKzT"
      },
      "execution_count": null,
      "outputs": []
    },
    {
      "cell_type": "code",
      "source": [
        "plt.figure(figsize=(15, 6))\n",
        "plt.plot(sales_per_day.index, sales_per_day.values)\n",
        "plt.title('Car Sales Trend Over Time')\n",
        "plt.xlabel('Date')\n",
        "plt.ylabel('Number of Sales')\n",
        "plt.xticks(rotation=45)  # Rotate date labels for better readability\n",
        "plt.show()"
      ],
      "metadata": {
        "id": "3dqohfVUnTeL"
      },
      "execution_count": null,
      "outputs": []
    },
    {
      "cell_type": "markdown",
      "source": [
        "Question 13: How does the car price distribution change when considering different combinations of body style and transmission type?\n",
        "\n",
        "Answer: The boxplot shows that cars with automatic transmissions generally have higher price ranges across most body styles, while manual transmissions are more common in lower-priced segments. Variations within each body style highlight the impact of transmission type on pricing.\n",
        "\n",
        "\n",
        "\n",
        "\n",
        "\n",
        "\n"
      ],
      "metadata": {
        "id": "oYxhSPXjlJty"
      }
    },
    {
      "cell_type": "code",
      "source": [
        "sns.boxplot(x='Body Style', y='Price ($)', hue='Transmission', data=df2)\n",
        "plt.title('Car Price Distribution by Body Style and Transmission Type')\n",
        "plt.ylabel('Price ($)')\n",
        "plt.show()\n"
      ],
      "metadata": {
        "id": "MnIIza1hlfW8"
      },
      "execution_count": null,
      "outputs": []
    },
    {
      "cell_type": "markdown",
      "source": [
        "Question 14: What is the correlation between car price, engine size, and annual income of customers, and how do these features interact?\n",
        "\n",
        "Answer:Higher-income customers generally purchase more expensive cars, larger engines correlate with higher prices, and distinct clusters reveal customer preferences by income and engine type."
      ],
      "metadata": {
        "id": "FDVN5aZ3lEVb"
      }
    },
    {
      "cell_type": "code",
      "source": [
        "sns.pairplot(df2[['Price ($)', 'Annual Income', 'Engine']].dropna(), diag_kind='kde')\n",
        "plt.title('Correlation Between Price, Engine Size, and Annual Income')\n",
        "plt.show()\n"
      ],
      "metadata": {
        "id": "XEWWW8hUliNa"
      },
      "execution_count": null,
      "outputs": []
    },
    {
      "cell_type": "markdown",
      "source": [
        "Question 15: How does the average car price vary across different car models and engine types?\n",
        "\n",
        "Answer:Models with larger or more powerful engines tend to have higher average prices, while the variation in stacked bars reflects pricing diversity across engine types for each model. Uniform bar heights suggest consistent pricing trends within specific models."
      ],
      "metadata": {
        "id": "2YLHPmHDk9hC"
      }
    },
    {
      "cell_type": "code",
      "source": [
        "model_engine_avg_price = df2.groupby(['Model', 'Engine'])['Price ($)'].mean().unstack()\n",
        "model_engine_avg_price.plot(kind='bar', stacked=True, figsize=(12, 6), title='Average Car Price by Model and Engine Type')\n",
        "plt.ylabel('Average Price ($)')\n",
        "plt.show()\n",
        "\n",
        "df2.groupby([\"Model\",\"Engine\"])[\"Price ($)\"].mean()\n"
      ],
      "metadata": {
        "id": "N7BzVflNlky0"
      },
      "execution_count": null,
      "outputs": []
    },
    {
      "cell_type": "markdown",
      "source": [
        "#EDA - 3 (Amazon Sales Data)\n",
        "\n",
        "\n"
      ],
      "metadata": {
        "id": "Uw48wZdRn898"
      }
    },
    {
      "cell_type": "code",
      "source": [
        "df3=pd.read_csv('amazon.csv')"
      ],
      "metadata": {
        "id": "XXmIaGj-oMyD"
      },
      "execution_count": null,
      "outputs": []
    },
    {
      "cell_type": "code",
      "source": [
        "df3"
      ],
      "metadata": {
        "id": "pQtzxyzOoWWz"
      },
      "execution_count": null,
      "outputs": []
    },
    {
      "cell_type": "code",
      "source": [
        "df3.info()"
      ],
      "metadata": {
        "id": "79ux6LtYocJr"
      },
      "execution_count": null,
      "outputs": []
    },
    {
      "cell_type": "code",
      "source": [
        "df3.columns"
      ],
      "metadata": {
        "id": "Q6p8TGDiq1Ub"
      },
      "execution_count": null,
      "outputs": []
    },
    {
      "cell_type": "code",
      "source": [
        "df3.head()"
      ],
      "metadata": {
        "id": "U5O1ux1rq58r"
      },
      "execution_count": null,
      "outputs": []
    },
    {
      "cell_type": "code",
      "source": [
        "df3.tail()"
      ],
      "metadata": {
        "id": "KO93RaA7q7R7"
      },
      "execution_count": null,
      "outputs": []
    },
    {
      "cell_type": "code",
      "source": [
        "df3.describe()"
      ],
      "metadata": {
        "id": "F3HVkAIVq8uk"
      },
      "execution_count": null,
      "outputs": []
    },
    {
      "cell_type": "code",
      "source": [
        "df3.info()"
      ],
      "metadata": {
        "id": "ELDDz5Ttq-RD"
      },
      "execution_count": null,
      "outputs": []
    },
    {
      "cell_type": "code",
      "source": [
        "df3.product_id"
      ],
      "metadata": {
        "id": "PzI7jtNdrF1r"
      },
      "execution_count": null,
      "outputs": []
    },
    {
      "cell_type": "code",
      "source": [
        "df3.discounted_price"
      ],
      "metadata": {
        "id": "csISEE5jrKjp"
      },
      "execution_count": null,
      "outputs": []
    },
    {
      "cell_type": "code",
      "source": [
        "# Assuming the column name is 'Price' and contains values like '₹1,23,456'\n",
        "df3['discounted_price'] = df3['discounted_price'].str.replace('₹', '', regex=False)  # Remove the rupee symbol\n",
        "df3['discounted_price'] = df3['discounted_price'].str.replace(',', '', regex=False)  # Remove commas\n",
        "\n",
        "df3['discounted_price'] = df3['discounted_price'].astype(float)  # Convert to integers\n",
        "\n",
        "# Verify the changes\n",
        "print(df['discounted_price'].head())\n"
      ],
      "metadata": {
        "id": "CQNMhqlzrT4b"
      },
      "execution_count": null,
      "outputs": []
    },
    {
      "cell_type": "code",
      "source": [
        "df3.info()"
      ],
      "metadata": {
        "id": "UCz3l--VsLF0"
      },
      "execution_count": null,
      "outputs": []
    },
    {
      "cell_type": "code",
      "source": [
        "df3.actual_price.unique()"
      ],
      "metadata": {
        "id": "Z7yEfDFtsZZE"
      },
      "execution_count": null,
      "outputs": []
    },
    {
      "cell_type": "code",
      "source": [
        "df3['actual_price'] = df3['actual_price'].replace({'₹': '', ',': ''}, regex=True).astype(int)"
      ],
      "metadata": {
        "id": "YhwHLd5PtAOk"
      },
      "execution_count": null,
      "outputs": []
    },
    {
      "cell_type": "code",
      "source": [
        "df3.actual_price.unique()"
      ],
      "metadata": {
        "id": "JPPYO6hgtFvM"
      },
      "execution_count": null,
      "outputs": []
    },
    {
      "cell_type": "code",
      "source": [
        "df3.info()"
      ],
      "metadata": {
        "id": "qu6kPeDjtKt0"
      },
      "execution_count": null,
      "outputs": []
    },
    {
      "cell_type": "code",
      "source": [
        "df3.rating"
      ],
      "metadata": {
        "id": "emONr1K_tM00"
      },
      "execution_count": null,
      "outputs": []
    },
    {
      "cell_type": "code",
      "source": [
        "df3.rating.unique()"
      ],
      "metadata": {
        "id": "ua7HwONltUg0"
      },
      "execution_count": null,
      "outputs": []
    },
    {
      "cell_type": "code",
      "source": [
        "df3['rating'] = pd.to_numeric(df3['rating'], errors='coerce')\n"
      ],
      "metadata": {
        "id": "idJhuXO0tXGc"
      },
      "execution_count": null,
      "outputs": []
    },
    {
      "cell_type": "code",
      "source": [
        "df3.rating.unique()"
      ],
      "metadata": {
        "id": "SDeLRAyztfrz"
      },
      "execution_count": null,
      "outputs": []
    },
    {
      "cell_type": "code",
      "source": [
        "df3.info()"
      ],
      "metadata": {
        "id": "n6gEfcrstkUE"
      },
      "execution_count": null,
      "outputs": []
    },
    {
      "cell_type": "code",
      "source": [
        "df3.rating_count"
      ],
      "metadata": {
        "id": "xwwssGIOtnSr"
      },
      "execution_count": null,
      "outputs": []
    },
    {
      "cell_type": "code",
      "source": [
        "df3.rating_count.unique()"
      ],
      "metadata": {
        "id": "MdgtysDuGC0B"
      },
      "execution_count": null,
      "outputs": []
    },
    {
      "cell_type": "code",
      "source": [
        "df3.isnull().sum()"
      ],
      "metadata": {
        "id": "l568SokfGKAF"
      },
      "execution_count": null,
      "outputs": []
    },
    {
      "cell_type": "code",
      "source": [
        "df3['rating_count'] = (\n",
        "    df3['rating_count']\n",
        "    .replace({',': ''}, regex=True)  # Remove commas\n",
        "    .fillna(0)                       # Replace NaN with 0\n",
        "    .astype(int)                     # Convert to integer\n",
        ")\n"
      ],
      "metadata": {
        "id": "YWZqjCSsGJ9y"
      },
      "execution_count": null,
      "outputs": []
    },
    {
      "cell_type": "code",
      "source": [
        "df3.rating_count.unique()"
      ],
      "metadata": {
        "id": "OFs9EZXlI7iK"
      },
      "execution_count": null,
      "outputs": []
    },
    {
      "cell_type": "code",
      "source": [
        "df3.dtypes"
      ],
      "metadata": {
        "id": "B1gv3BcZI-ai"
      },
      "execution_count": null,
      "outputs": []
    },
    {
      "cell_type": "code",
      "source": [
        "df3\n"
      ],
      "metadata": {
        "id": "DNft3TBjI_qi"
      },
      "execution_count": null,
      "outputs": []
    },
    {
      "cell_type": "code",
      "source": [
        "df3.info()"
      ],
      "metadata": {
        "id": "Z_GEixpUJF_K"
      },
      "execution_count": null,
      "outputs": []
    },
    {
      "cell_type": "code",
      "source": [
        "# Remove the '%' symbol and convert to numeric\n",
        "df3['discount_percentage'] = df3['discount_percentage'].str.replace('%', '', regex=True).astype(float)\n"
      ],
      "metadata": {
        "id": "CPqyNnvdJVwC"
      },
      "execution_count": null,
      "outputs": []
    },
    {
      "cell_type": "code",
      "source": [
        "df3.info()"
      ],
      "metadata": {
        "id": "KR1a2spgJ2Dq"
      },
      "execution_count": null,
      "outputs": []
    },
    {
      "cell_type": "code",
      "source": [
        "df3.discount_percentage.unique()"
      ],
      "metadata": {
        "id": "Nf7GeoVcJ3ny"
      },
      "execution_count": null,
      "outputs": []
    },
    {
      "cell_type": "code",
      "source": [
        "df3.discount_percentage.value_counts()"
      ],
      "metadata": {
        "id": "jQWvOcdbJ7yq"
      },
      "execution_count": null,
      "outputs": []
    },
    {
      "cell_type": "code",
      "source": [
        "df3"
      ],
      "metadata": {
        "id": "AvOeaTdxJ_Zq"
      },
      "execution_count": null,
      "outputs": []
    },
    {
      "cell_type": "markdown",
      "source": [
        "QUESTION 1:What is the average rating for each product category?\n",
        "\n",
        "Answer:Categories with higher average ratings indicate better customer satisfaction."
      ],
      "metadata": {
        "id": "WpGeRGicKE5L"
      }
    },
    {
      "cell_type": "code",
      "source": [
        "avg_rating_by_category = df3.groupby('category')['rating'].mean().sort_values(ascending=False)\n",
        "print(avg_rating_by_category)"
      ],
      "metadata": {
        "id": "FbkhOcxjKlQb"
      },
      "execution_count": null,
      "outputs": []
    },
    {
      "cell_type": "markdown",
      "source": [
        "Question 2: What are the top rating_count products by category?\n",
        "\n",
        "Answer :"
      ],
      "metadata": {
        "id": "2mKAgkpuLWVy"
      }
    },
    {
      "cell_type": "code",
      "source": [
        "top_rated_products = df3.groupby('category').apply(lambda x: x.nlargest(1, 'rating_count'))[['product_name', 'rating_count']]\n",
        "print(top_rated_products)\n",
        "# Insight: Top products by rating count can be used for targeted promotions."
      ],
      "metadata": {
        "id": "Iqq_-Au1LaBC"
      },
      "execution_count": null,
      "outputs": []
    },
    {
      "cell_type": "markdown",
      "source": [
        "Question 3: What is the distribution of discounted prices vs. actual prices?\n",
        "\n",
        "Answer :Shows how much customers save on average."
      ],
      "metadata": {
        "id": "JSd5JyTFLWUS"
      }
    },
    {
      "cell_type": "code",
      "source": [
        "plt.figure(figsize=(8, 5))\n",
        "sns.scatterplot(x='actual_price', y='discounted_price', data=df3, alpha=0.6)\n",
        "plt.title('Discounted Prices vs. Actual Prices')\n",
        "plt.xlabel('Actual Price')\n",
        "plt.ylabel('Discounted Price')\n",
        "plt.show()"
      ],
      "metadata": {
        "id": "ngdohqsML46i"
      },
      "execution_count": null,
      "outputs": []
    },
    {
      "cell_type": "markdown",
      "source": [
        "Question 4: How does the average discount percentage vary across categories?\n",
        "\n",
        "Answer :"
      ],
      "metadata": {
        "id": "VxrQ-fEcMJ0a"
      }
    },
    {
      "cell_type": "code",
      "source": [
        "avg_discount_by_category = df3.groupby('category')['discount_percentage'].mean().sort_values(ascending=False)\n",
        "print(avg_discount_by_category)"
      ],
      "metadata": {
        "id": "-CBsb4UIMMHK"
      },
      "execution_count": null,
      "outputs": []
    },
    {
      "cell_type": "markdown",
      "source": [
        "Question 5: What are the most popular product names?\n",
        "\n",
        "Answer :"
      ],
      "metadata": {
        "id": "lEpzV_cVLWKC"
      }
    },
    {
      "cell_type": "code",
      "source": [
        "popular_products_by_rating_count = df3.groupby('product_name')['rating_count'].sum().sort_values(ascending=False).head(5)\n"
      ],
      "metadata": {
        "id": "SUHwWHxMM3Tb"
      },
      "execution_count": null,
      "outputs": []
    },
    {
      "cell_type": "code",
      "source": [
        "popular_products_by_rating_count"
      ],
      "metadata": {
        "id": "ulYfh5EXN7s8"
      },
      "execution_count": null,
      "outputs": []
    },
    {
      "cell_type": "markdown",
      "source": [
        "Question 6: What are the most popular product keywords?\n",
        "\n",
        "Answer :"
      ],
      "metadata": {
        "id": "2FaU2pd_OGtj"
      }
    },
    {
      "cell_type": "code",
      "source": [
        "def extract_keywords(text):\n",
        "    return pd.Series(str(text).lower().split())\n",
        "\n",
        "keywords = df3['product_name'].apply(extract_keywords).stack().value_counts().head(5)\n",
        "print(keywords)"
      ],
      "metadata": {
        "id": "M68x_76AN98D"
      },
      "execution_count": null,
      "outputs": []
    },
    {
      "cell_type": "markdown",
      "source": [
        "Question 7: What are the most popular product reviews?\n",
        "\n",
        "Answer :"
      ],
      "metadata": {
        "id": "RgMpwKn7OSTl"
      }
    },
    {
      "cell_type": "code",
      "source": [
        "popular_reviews = df3['review_content'].value_counts().head(5)\n",
        "print(popular_reviews)"
      ],
      "metadata": {
        "id": "yecNZey4OMDL"
      },
      "execution_count": null,
      "outputs": []
    },
    {
      "cell_type": "markdown",
      "source": [
        "Question 8: What is the correlation between discounted_price and rating?\n",
        "\n",
        "Answer :A weak correlation suggests pricing might not directly influence ratings."
      ],
      "metadata": {
        "id": "AMLVpvKSOhMT"
      }
    },
    {
      "cell_type": "code",
      "source": [
        "correlation = df3[['discounted_price', 'rating']].corr()\n",
        "print(correlation)\n"
      ],
      "metadata": {
        "id": "XTnHht5VOX0z"
      },
      "execution_count": null,
      "outputs": []
    },
    {
      "cell_type": "markdown",
      "source": [
        "Question 9: What are the Top 5 categories based on the highest ratings?\n",
        "\n",
        "Answer :"
      ],
      "metadata": {
        "id": "6qhhJFfRO2-s"
      }
    },
    {
      "cell_type": "code",
      "source": [
        "top_categories = df3.groupby('category')['rating'].mean().nlargest(5)\n",
        "print(top_categories)"
      ],
      "metadata": {
        "id": "eTtrw50mOw8z"
      },
      "execution_count": null,
      "outputs": []
    },
    {
      "cell_type": "markdown",
      "source": [
        "QUESTION 10: Identify any potential areas for improvement or optimization based on the data analysis.\n",
        "\n",
        "Answer :\n",
        "\n",
        "Based on the analysis of the Amazon Sales Data, the following areas for improvement or optimization have been identified:\n",
        "\n",
        "###1. Handle Missing Data:\n",
        "\n",
        "Observation: Certain columns like discounted_price, actual_price, rating, rating_count, and discount_percentage have missing or null values.\n",
        "\n",
        "Recommendation:\n",
        "Fill missing values using appropriate strategies (e.g., mean/median for numerical columns, mode for categorical columns).\n",
        "Remove rows with excessive missing values to improve data integrity.\n",
        "\n",
        "Benefit: Ensures cleaner data for analysis, leading to more accurate insights.\n",
        "\n",
        "###2. Analyze and Optimize Discount Strategies:\n",
        "Observation: Categories with higher average discounts (e.g., Electronics) are likely attracting more price-sensitive customers.\n",
        "\n",
        "Recommendation:\n",
        "Focus on optimizing discounts in low-performing categories to boost sales.\n",
        "\n",
        "Run A/B testing on different discount percentages to understand their impact on sales and ratings.\n",
        "\n",
        "Benefit: Attracts more customers to underperforming categories and maximizes revenue.\n",
        "\n",
        "###3. Improve Customer Reviews and Engagement:\n",
        "Observation: Some products have low cumulative rating_count or poor reviews. Customer feedback trends from review_content indicate dissatisfaction for specific products or categories.\n",
        "\n",
        "Recommendation:\n",
        "Address common issues highlighted in negative reviews to improve product quality and customer experience.\n",
        "\n",
        "Encourage satisfied customers to leave reviews through follow-up emails or incentives.\n",
        "\n",
        "Benefit: Enhances customer trust and drives higher ratings.\n",
        "\n",
        "###4. Target High-Performing Products:\n",
        "\n",
        "Observation: Certain products with high rating_count are consistently popular.\n",
        "\n",
        "Recommendation:\n",
        "Increase inventory for these top products to meet customer demand.\n",
        "\n",
        "Highlight these products in marketing campaigns, banners, and featured deals.\n",
        "\n",
        "Benefit: Maximizes sales by capitalizing on popular products.\n",
        "\n",
        "###5. Optimize Underperforming Categories:\n",
        "\n",
        "Observation: Categories with low average ratings or fewer sales are underperforming.\n",
        "\n",
        "Recommendation:\n",
        "\n",
        "Investigate reasons for poor performance (e.g., lack of product variety, low quality, insufficient marketing).\n",
        "\n",
        "Introduce new, competitive products in these categories or improve existing ones.\n",
        "\n",
        "Benefit: Balances sales distribution across categories and reduces dependency on top-performing categories.\n",
        "\n",
        "###6. Focus on Pricing Optimization:\n",
        "\n",
        "Observation: The correlation between discounted_price and rating is weak, indicating pricing alone may not drive higher ratings.\n",
        "\n",
        "Recommendation:\n",
        "\n",
        "Analyze customer perception of value beyond discounts (e.g., quality, brand reputation).\n",
        "\n",
        "Align pricing with competitors while maintaining product value.\n",
        "\n",
        "Benefit: Improves customer satisfaction and increases sales without excessive reliance on discounts.\n",
        "\n",
        "###7. Enhance Product Descriptions and Keywords:\n",
        "\n",
        "Observation: Popular keywords extracted from product names reveal naming trends (e.g., \"smart,\" \"wireless\").\n",
        "\n",
        "Recommendation:\n",
        "\n",
        "Use these keywords effectively to enhance product titles and descriptions for better search visibility.\n",
        "\n",
        "Optimize SEO strategies to improve product discoverability.\n",
        "\n",
        "Benefit: Increases traffic to product pages and boosts sales.\n",
        "\n",
        "###8. Improve Product Images and Links:\n",
        "\n",
        "Observation: Some products may lack proper img_link or product_link, reducing customer trust.\n",
        "\n",
        "Recommendation:\n",
        "\n",
        "Ensure high-quality product images and functional product links for all entries.\n",
        "\n",
        "Benefit: Builds customer confidence and reduces drop-off rates.\n",
        "\n",
        "###Summary of Optimizations:\n",
        "\n",
        "By addressing missing data, enhancing customer engagement, optimizing pricing strategies, and focusing on both high-performing and underperforming areas, the company can significantly improve customer satisfaction, boost sales, and optimize overall business performance.\n"
      ],
      "metadata": {
        "id": "rGLvZbNdPAsj"
      }
    },
    {
      "cell_type": "code",
      "source": [
        "missing_data = df3.isnull().sum()\n",
        "print(\"Missing Data:\")\n",
        "print(missing_data)\n",
        "# Insight: Reduce missing values and focus on underperforming categories for improvement."
      ],
      "metadata": {
        "id": "Tfcl195HO_cL"
      },
      "execution_count": null,
      "outputs": []
    },
    {
      "cell_type": "markdown",
      "source": [
        "#EDA - 4 (Spotify Data)"
      ],
      "metadata": {
        "id": "u58TRga-Qdzs"
      }
    },
    {
      "cell_type": "code",
      "source": [
        "df4= pd.read_csv('spotify.csv')"
      ],
      "metadata": {
        "id": "_-ZaIi7fQrik"
      },
      "execution_count": null,
      "outputs": []
    },
    {
      "cell_type": "code",
      "source": [
        "df4"
      ],
      "metadata": {
        "id": "EsSGQ8HKQyps"
      },
      "execution_count": null,
      "outputs": []
    },
    {
      "cell_type": "code",
      "source": [
        "df4.info()"
      ],
      "metadata": {
        "id": "R7SPc8tfQzPj"
      },
      "execution_count": null,
      "outputs": []
    },
    {
      "cell_type": "code",
      "source": [
        "df4.duplicated().sum()"
      ],
      "metadata": {
        "id": "jt-Q4nHKr_3r"
      },
      "execution_count": null,
      "outputs": []
    },
    {
      "cell_type": "code",
      "source": [
        "df4.isnull().sum()"
      ],
      "metadata": {
        "id": "kNrBjxuxy2ND"
      },
      "execution_count": null,
      "outputs": []
    },
    {
      "cell_type": "markdown",
      "source": [
        "QUESTION 1:ead the dataframe, check null value if present then do the needful, check duplicate row , if present then do\n",
        "the needful?\n",
        "\n",
        "Answer:"
      ],
      "metadata": {
        "id": "GZyhhR5Fy-Yl"
      }
    },
    {
      "cell_type": "code",
      "source": [
        "df4.isnull().sum()"
      ],
      "metadata": {
        "id": "ezXI9FnFzjaz"
      },
      "execution_count": null,
      "outputs": []
    },
    {
      "cell_type": "code",
      "source": [
        "print(\"Missing Values:\\n\", df4.isnull().sum())\n",
        "df4.dropna(inplace=True)  # Drop rows with missing values\n",
        "print(\"Duplicate Rows: \", df4.duplicated().sum())\n",
        "df4.drop_duplicates(inplace=True)  # Remove duplicate rows"
      ],
      "metadata": {
        "id": "YArMv7XPzSjT"
      },
      "execution_count": null,
      "outputs": []
    },
    {
      "cell_type": "code",
      "source": [
        "df4.duplicated().sum()"
      ],
      "metadata": {
        "id": "0LoslxkRzYsM"
      },
      "execution_count": null,
      "outputs": []
    },
    {
      "cell_type": "markdown",
      "source": [
        "QUESTION 2:What is the distribution of popularity among the tracks in the dataset? Visualize it using a histogram.\n",
        "\n",
        "ANSWER :The popularity score shows a skewed distribution, with most tracks falling in a mid-range popularity bracket."
      ],
      "metadata": {
        "id": "A4Li8Xq_y-V1"
      }
    },
    {
      "cell_type": "code",
      "source": [
        "plt.figure(figsize=(10, 6))\n",
        "sns.histplot(df4['Popularity'], bins=30, kde=True, color='blue')\n",
        "plt.title('Distribution of Popularity among Tracks')\n",
        "plt.xlabel('Popularity')\n",
        "plt.ylabel('Frequency')\n",
        "plt.show()"
      ],
      "metadata": {
        "id": "fnOpByucy8qq"
      },
      "execution_count": null,
      "outputs": []
    },
    {
      "cell_type": "markdown",
      "source": [
        "QUESTION 3:Is there any relationship between the popularity and the duration of tracks? Explore this using a scatter plot.\n",
        "\n",
        "ANSWER :The popularity score shows a skewed distribution, with most tracks falling in a mid-range popularity bracket."
      ],
      "metadata": {
        "id": "QMlhoU6cz1-Q"
      }
    },
    {
      "cell_type": "code",
      "source": [
        "plt.figure(figsize=(10, 6))\n",
        "sns.scatterplot(x='Duration (ms)', y='Popularity', data=df4, color='purple')\n",
        "plt.title('Popularity vs. Duration of Tracks')\n",
        "plt.xlabel('Duration (ms)')\n",
        "plt.ylabel('Popularity')\n",
        "plt.show()"
      ],
      "metadata": {
        "id": "GR8P1VKHzyoT"
      },
      "execution_count": null,
      "outputs": []
    },
    {
      "cell_type": "markdown",
      "source": [
        "QUESTION 4:Which artist has the highest number of tracks in the dataset? Display the count of tracks for each artist using a countplot.\n",
        "\n",
        "ANSWER :Drake"
      ],
      "metadata": {
        "id": "i-qsLdiI2DMc"
      }
    },
    {
      "cell_type": "code",
      "source": [
        "plt.figure(figsize=(12, 6))\n",
        "artist_counts = df4['Artist'].value_counts()\n",
        "sns.countplot(y=df4['Artist'], order=artist_counts.index[:10], palette='viridis')\n",
        "plt.title('Top Artists by Number of Tracks')\n",
        "plt.xlabel('Number of Tracks')\n",
        "plt.ylabel('Artist')\n",
        "plt.show()"
      ],
      "metadata": {
        "id": "ZHysasJ22AJk"
      },
      "execution_count": null,
      "outputs": []
    },
    {
      "cell_type": "markdown",
      "source": [
        "QUESTION 5:What are the top 5 least popular tracks in the dataset? Provide the artist name and track name for each.\n",
        "\n",
        "ANSWER:\n",
        "```\n",
        "Top 5 Least Popular Tracks:\n",
        "              Artist                     Track Name  Popularity\n",
        "207          Pressa  Attachments (feat. Coi Leray)          29\n",
        "231   Justin Bieber                     Intentions          35\n",
        "413  French Montana                Splash Brothers          44\n",
        "225        Lil Baby                  On Me - Remix          47\n",
        "407     Wyclef Jean      911 (feat. Mary J. Blige)          48\n",
        "```"
      ],
      "metadata": {
        "id": "2PBHKXNL2Sln"
      }
    },
    {
      "cell_type": "code",
      "source": [
        "least_popular = df4.nsmallest(5, 'Popularity')[['Artist', 'Track Name', 'Popularity']]\n",
        "print(\"Top 5 Least Popular Tracks:\\n\", least_popular)\n"
      ],
      "metadata": {
        "id": "fsYvZHiy2YCv"
      },
      "execution_count": null,
      "outputs": []
    },
    {
      "cell_type": "markdown",
      "source": [
        "QUESTION 6:Among the top 5 most popular artists, which artist has the highest popularity on average? Calculate and\n",
        "display the average popularity for each artist.\n",
        "\n",
        "ANSWER:\n",
        "```\n",
        "Top 5 Most Popular Artists (Average Popularity):\n",
        " Artist\n",
        "cassö           92.000000\n",
        "Trueno          89.000000\n",
        "David Guetta    87.000000\n",
        "Travis Scott    86.555556\n",
        "¥$              85.100000\n",
        "```"
      ],
      "metadata": {
        "id": "jQf-Zb1J2SeO"
      }
    },
    {
      "cell_type": "code",
      "source": [
        "top_artists = df4.groupby('Artist')['Popularity'].mean().nlargest(5)\n",
        "print(\"Top 5 Most Popular Artists (Average Popularity):\\n\", top_artists)"
      ],
      "metadata": {
        "id": "vBF-Fmxg2xJW"
      },
      "execution_count": null,
      "outputs": []
    },
    {
      "cell_type": "markdown",
      "source": [
        "QUESTION 7:For the top 5 most popular artists, what are their most popular tracks? List the track name for each artist.\n",
        "\n",
        "ANSWER :\n",
        "```\n",
        "Most Popular Track for cassö:\n",
        "     Track Name  Popularity\n",
        "140      Prada          92\n",
        "Most Popular Track for Trueno:\n",
        "                        Track Name  Popularity\n",
        "241  Mamichula - con Nicki Nicole          89\n",
        "Most Popular Track for David Guetta:\n",
        "              Track Name  Popularity\n",
        "200  Baby Don't Hurt Me          87\n",
        "Most Popular Track for Travis Scott:\n",
        "                     Track Name  Popularity\n",
        "30  FE!N (feat. Playboi Carti)          93\n",
        "Most Popular Track for ¥$:\n",
        "     Track Name  Popularity\n",
        "260   CARNIVAL          96\n",
        "```\n",
        "\n"
      ],
      "metadata": {
        "id": "Y2uQ4yKR2SQB"
      }
    },
    {
      "cell_type": "code",
      "source": [
        "for artist in top_artists.index:\n",
        "    top_track = df4[df4['Artist'] == artist].nlargest(1, 'Popularity')[['Track Name', 'Popularity']]\n",
        "    print(f\"Most Popular Track for {artist}:\\n\", top_track)"
      ],
      "metadata": {
        "id": "smYmzyOa3MKs"
      },
      "execution_count": null,
      "outputs": []
    },
    {
      "cell_type": "markdown",
      "source": [
        "QUESTION 8:Visualize relationships between multiple numerical variables simultaneously using a pair plot.\n",
        "\n",
        "ANSWER:Pair plots visualize relationships between popularity and duration."
      ],
      "metadata": {
        "id": "2Dz7hFcz2SMu"
      }
    },
    {
      "cell_type": "code",
      "source": [
        "sns.pairplot(df4[['Popularity', 'Duration (ms)']])\n",
        "plt.suptitle('Pair Plot for Numerical Variables', y=1.02)\n",
        "plt.show()"
      ],
      "metadata": {
        "id": "17-fTEHX3fLT"
      },
      "execution_count": null,
      "outputs": []
    },
    {
      "cell_type": "markdown",
      "source": [
        "QUESTION 9:Does the duration of tracks vary significantly across different artists? Explore this visually using a box plot or violin plot.\n",
        "\n",
        "ANSWER:Box plots reveal significant variation in track lengths across artists, indicating diverse musical styles.\n",
        "\n"
      ],
      "metadata": {
        "id": "rZNu5v-X2SJP"
      }
    },
    {
      "cell_type": "code",
      "source": [
        "plt.figure(figsize=(12, 6))\n",
        "sns.boxplot(x='Artist', y='Duration (ms)', data=df4[df4['Artist'].isin(artist_counts.index[:10])])\n",
        "plt.title('Track Duration Variation Across Artists')\n",
        "plt.xlabel('Artist')\n",
        "plt.ylabel('Duration (ms)')\n",
        "plt.xticks(rotation=45)\n",
        "plt.show()"
      ],
      "metadata": {
        "id": "oGiG5_Iw3rsF"
      },
      "execution_count": null,
      "outputs": []
    },
    {
      "cell_type": "markdown",
      "source": [
        "QUESTION 10:How does the distribution of track popularity vary for different artists? Visualize this using a swarm plot or a violin plot.\n",
        "\n",
        "ANSWER:Violin plots display the distribution of track popularity for top artists, illustrating patterns and ranges."
      ],
      "metadata": {
        "id": "CH98q-Oi2SF-"
      }
    },
    {
      "cell_type": "code",
      "source": [
        "plt.figure(figsize=(12, 6))\n",
        "sns.violinplot(x='Artist', y='Popularity', data=df4[df4['Artist'].isin(artist_counts.index[:10])], palette='mako')\n",
        "plt.title('Popularity Distribution Across Artists')\n",
        "plt.xlabel('Artist')\n",
        "plt.ylabel('Popularity')\n",
        "plt.xticks(rotation=45)\n",
        "plt.show()"
      ],
      "metadata": {
        "id": "d74MhbSl38Bk"
      },
      "execution_count": null,
      "outputs": []
    }
  ]
}